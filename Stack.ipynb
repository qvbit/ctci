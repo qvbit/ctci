{
 "cells": [
  {
   "cell_type": "code",
   "execution_count": 12,
   "id": "f176f53b",
   "metadata": {},
   "outputs": [],
   "source": [
    "class MyStack:\n",
    "    def __init__(self, top=None):\n",
    "        self.top = top\n",
    "        \n",
    "    class StackNode:\n",
    "        def __init__(self, data):\n",
    "            self.data = data\n",
    "            self._next = None\n",
    "    \n",
    "    def pop(self):\n",
    "        if not self.top:\n",
    "            raise Exception(\"Stack is empty!\")\n",
    "        item = self.top.data\n",
    "        self.top = self.top._next\n",
    "        return item\n",
    "    \n",
    "    def push(self, item) -> None:\n",
    "        t = self.StackNode(item)\n",
    "        t._next = self.top\n",
    "        self.top = t\n",
    "    \n",
    "    def peek(self):\n",
    "        if not self.top:\n",
    "            raise Exception(\"Stack is empty!\")\n",
    "        return self.top.data\n",
    "    \n",
    "    def is_empty(self):\n",
    "        return not self.top       "
   ]
  },
  {
   "cell_type": "code",
   "execution_count": 13,
   "id": "ad4c0597",
   "metadata": {},
   "outputs": [],
   "source": [
    "ms = MyStack()"
   ]
  },
  {
   "cell_type": "code",
   "execution_count": 14,
   "id": "c409b15c",
   "metadata": {},
   "outputs": [],
   "source": [
    "ms.push(2)"
   ]
  },
  {
   "cell_type": "code",
   "execution_count": 15,
   "id": "5ac375e2",
   "metadata": {},
   "outputs": [],
   "source": [
    "ms.push(3)"
   ]
  },
  {
   "cell_type": "code",
   "execution_count": 16,
   "id": "edd12678",
   "metadata": {},
   "outputs": [],
   "source": [
    "ms.push(4)"
   ]
  },
  {
   "cell_type": "code",
   "execution_count": 17,
   "id": "545b4b48",
   "metadata": {},
   "outputs": [
    {
     "data": {
      "text/plain": [
       "4"
      ]
     },
     "execution_count": 17,
     "metadata": {},
     "output_type": "execute_result"
    }
   ],
   "source": [
    "ms.peek()"
   ]
  },
  {
   "cell_type": "code",
   "execution_count": 18,
   "id": "bdde63ae",
   "metadata": {},
   "outputs": [
    {
     "data": {
      "text/plain": [
       "False"
      ]
     },
     "execution_count": 18,
     "metadata": {},
     "output_type": "execute_result"
    }
   ],
   "source": [
    "ms.is_empty()"
   ]
  },
  {
   "cell_type": "code",
   "execution_count": 19,
   "id": "f629f4e7",
   "metadata": {},
   "outputs": [
    {
     "data": {
      "text/plain": [
       "4"
      ]
     },
     "execution_count": 19,
     "metadata": {},
     "output_type": "execute_result"
    }
   ],
   "source": [
    "ms.pop()"
   ]
  },
  {
   "cell_type": "code",
   "execution_count": 20,
   "id": "4e7a8215",
   "metadata": {},
   "outputs": [
    {
     "data": {
      "text/plain": [
       "3"
      ]
     },
     "execution_count": 20,
     "metadata": {},
     "output_type": "execute_result"
    }
   ],
   "source": [
    "ms.peek()"
   ]
  },
  {
   "cell_type": "code",
   "execution_count": 21,
   "id": "608e5608",
   "metadata": {},
   "outputs": [
    {
     "data": {
      "text/plain": [
       "3"
      ]
     },
     "execution_count": 21,
     "metadata": {},
     "output_type": "execute_result"
    }
   ],
   "source": [
    "ms.pop()"
   ]
  },
  {
   "cell_type": "code",
   "execution_count": 22,
   "id": "5eea1dcc",
   "metadata": {},
   "outputs": [
    {
     "data": {
      "text/plain": [
       "2"
      ]
     },
     "execution_count": 22,
     "metadata": {},
     "output_type": "execute_result"
    }
   ],
   "source": [
    "ms.peek()"
   ]
  },
  {
   "cell_type": "code",
   "execution_count": 23,
   "id": "ab944a00",
   "metadata": {},
   "outputs": [
    {
     "data": {
      "text/plain": [
       "2"
      ]
     },
     "execution_count": 23,
     "metadata": {},
     "output_type": "execute_result"
    }
   ],
   "source": [
    "ms.pop()"
   ]
  },
  {
   "cell_type": "code",
   "execution_count": 24,
   "id": "818e74b5",
   "metadata": {},
   "outputs": [
    {
     "ename": "Exception",
     "evalue": "Stack is empty!",
     "output_type": "error",
     "traceback": [
      "\u001b[1;31m---------------------------------------------------------------------------\u001b[0m",
      "\u001b[1;31mException\u001b[0m                                 Traceback (most recent call last)",
      "Input \u001b[1;32mIn [24]\u001b[0m, in \u001b[0;36m<cell line: 1>\u001b[1;34m()\u001b[0m\n\u001b[1;32m----> 1\u001b[0m \u001b[43mms\u001b[49m\u001b[38;5;241;43m.\u001b[39;49m\u001b[43mpeek\u001b[49m\u001b[43m(\u001b[49m\u001b[43m)\u001b[49m\n",
      "Input \u001b[1;32mIn [12]\u001b[0m, in \u001b[0;36mMyStack.peek\u001b[1;34m(self)\u001b[0m\n\u001b[0;32m     22\u001b[0m \u001b[38;5;28;01mdef\u001b[39;00m \u001b[38;5;21mpeek\u001b[39m(\u001b[38;5;28mself\u001b[39m):\n\u001b[0;32m     23\u001b[0m     \u001b[38;5;28;01mif\u001b[39;00m \u001b[38;5;129;01mnot\u001b[39;00m \u001b[38;5;28mself\u001b[39m\u001b[38;5;241m.\u001b[39mtop:\n\u001b[1;32m---> 24\u001b[0m         \u001b[38;5;28;01mraise\u001b[39;00m \u001b[38;5;167;01mException\u001b[39;00m(\u001b[38;5;124m\"\u001b[39m\u001b[38;5;124mStack is empty!\u001b[39m\u001b[38;5;124m\"\u001b[39m)\n\u001b[0;32m     25\u001b[0m     \u001b[38;5;28;01mreturn\u001b[39;00m \u001b[38;5;28mself\u001b[39m\u001b[38;5;241m.\u001b[39mtop\u001b[38;5;241m.\u001b[39mdata\n",
      "\u001b[1;31mException\u001b[0m: Stack is empty!"
     ]
    }
   ],
   "source": [
    "ms.peek()"
   ]
  },
  {
   "cell_type": "code",
   "execution_count": 25,
   "id": "edc0f8e0",
   "metadata": {},
   "outputs": [
    {
     "ename": "Exception",
     "evalue": "Stack is empty!",
     "output_type": "error",
     "traceback": [
      "\u001b[1;31m---------------------------------------------------------------------------\u001b[0m",
      "\u001b[1;31mException\u001b[0m                                 Traceback (most recent call last)",
      "Input \u001b[1;32mIn [25]\u001b[0m, in \u001b[0;36m<cell line: 1>\u001b[1;34m()\u001b[0m\n\u001b[1;32m----> 1\u001b[0m \u001b[43mms\u001b[49m\u001b[38;5;241;43m.\u001b[39;49m\u001b[43mpop\u001b[49m\u001b[43m(\u001b[49m\u001b[43m)\u001b[49m\n",
      "Input \u001b[1;32mIn [12]\u001b[0m, in \u001b[0;36mMyStack.pop\u001b[1;34m(self)\u001b[0m\n\u001b[0;32m     10\u001b[0m \u001b[38;5;28;01mdef\u001b[39;00m \u001b[38;5;21mpop\u001b[39m(\u001b[38;5;28mself\u001b[39m):\n\u001b[0;32m     11\u001b[0m     \u001b[38;5;28;01mif\u001b[39;00m \u001b[38;5;129;01mnot\u001b[39;00m \u001b[38;5;28mself\u001b[39m\u001b[38;5;241m.\u001b[39mtop:\n\u001b[1;32m---> 12\u001b[0m         \u001b[38;5;28;01mraise\u001b[39;00m \u001b[38;5;167;01mException\u001b[39;00m(\u001b[38;5;124m\"\u001b[39m\u001b[38;5;124mStack is empty!\u001b[39m\u001b[38;5;124m\"\u001b[39m)\n\u001b[0;32m     13\u001b[0m     item \u001b[38;5;241m=\u001b[39m \u001b[38;5;28mself\u001b[39m\u001b[38;5;241m.\u001b[39mtop\u001b[38;5;241m.\u001b[39mdata\n\u001b[0;32m     14\u001b[0m     \u001b[38;5;28mself\u001b[39m\u001b[38;5;241m.\u001b[39mtop \u001b[38;5;241m=\u001b[39m \u001b[38;5;28mself\u001b[39m\u001b[38;5;241m.\u001b[39mtop\u001b[38;5;241m.\u001b[39m_next\n",
      "\u001b[1;31mException\u001b[0m: Stack is empty!"
     ]
    }
   ],
   "source": [
    "ms.pop()"
   ]
  },
  {
   "cell_type": "code",
   "execution_count": null,
   "id": "c3c9076d",
   "metadata": {},
   "outputs": [],
   "source": []
  }
 ],
 "metadata": {
  "kernelspec": {
   "display_name": "Python 3 (ipykernel)",
   "language": "python",
   "name": "python3"
  },
  "language_info": {
   "codemirror_mode": {
    "name": "ipython",
    "version": 3
   },
   "file_extension": ".py",
   "mimetype": "text/x-python",
   "name": "python",
   "nbconvert_exporter": "python",
   "pygments_lexer": "ipython3",
   "version": "3.9.12"
  }
 },
 "nbformat": 4,
 "nbformat_minor": 5
}
