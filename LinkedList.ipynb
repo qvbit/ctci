{
 "cells": [
  {
   "cell_type": "markdown",
   "id": "0c3de550",
   "metadata": {},
   "source": [
    "## This implements a simple Node class which handles the LL"
   ]
  },
  {
   "cell_type": "code",
   "execution_count": 15,
   "id": "2998eb96",
   "metadata": {},
   "outputs": [],
   "source": [
    "class Node:\n",
    "    def __init__(self, data: int):\n",
    "        self.data = data\n",
    "        self.next = None\n",
    "        \n",
    "    def append_to_tail(self, d: int) -> None:\n",
    "        end = Node(d)\n",
    "        n = self\n",
    "        \n",
    "        while n.next:\n",
    "            n = n.next\n",
    "        \n",
    "        n.next = end\n",
    "        \n",
    "    def __repr__(self):\n",
    "        return str(self.data)"
   ]
  },
  {
   "cell_type": "code",
   "execution_count": 16,
   "id": "5f14d758",
   "metadata": {},
   "outputs": [],
   "source": [
    "n = Node(2)"
   ]
  },
  {
   "cell_type": "code",
   "execution_count": 17,
   "id": "a24c27fc",
   "metadata": {},
   "outputs": [
    {
     "data": {
      "text/plain": [
       "2"
      ]
     },
     "execution_count": 17,
     "metadata": {},
     "output_type": "execute_result"
    }
   ],
   "source": [
    "n"
   ]
  },
  {
   "cell_type": "code",
   "execution_count": 18,
   "id": "f698e8d7",
   "metadata": {},
   "outputs": [],
   "source": [
    "n.append_to_tail(5)"
   ]
  },
  {
   "cell_type": "code",
   "execution_count": 19,
   "id": "37139eb5",
   "metadata": {},
   "outputs": [
    {
     "data": {
      "text/plain": [
       "2"
      ]
     },
     "execution_count": 19,
     "metadata": {},
     "output_type": "execute_result"
    }
   ],
   "source": [
    "n"
   ]
  },
  {
   "cell_type": "code",
   "execution_count": 20,
   "id": "cfa50330",
   "metadata": {},
   "outputs": [
    {
     "data": {
      "text/plain": [
       "5"
      ]
     },
     "execution_count": 20,
     "metadata": {},
     "output_type": "execute_result"
    }
   ],
   "source": [
    "n.next"
   ]
  },
  {
   "cell_type": "code",
   "execution_count": 21,
   "id": "1bfcfe39",
   "metadata": {},
   "outputs": [],
   "source": [
    "n.append_to_tail(7)"
   ]
  },
  {
   "cell_type": "code",
   "execution_count": 22,
   "id": "fe544e9b",
   "metadata": {},
   "outputs": [
    {
     "data": {
      "text/plain": [
       "2"
      ]
     },
     "execution_count": 22,
     "metadata": {},
     "output_type": "execute_result"
    }
   ],
   "source": [
    "n"
   ]
  },
  {
   "cell_type": "code",
   "execution_count": 23,
   "id": "1e4c3a8e",
   "metadata": {},
   "outputs": [
    {
     "data": {
      "text/plain": [
       "5"
      ]
     },
     "execution_count": 23,
     "metadata": {},
     "output_type": "execute_result"
    }
   ],
   "source": [
    "n.next"
   ]
  },
  {
   "cell_type": "code",
   "execution_count": 24,
   "id": "50e8611f",
   "metadata": {},
   "outputs": [
    {
     "data": {
      "text/plain": [
       "7"
      ]
     },
     "execution_count": 24,
     "metadata": {},
     "output_type": "execute_result"
    }
   ],
   "source": [
    "n.next.next"
   ]
  },
  {
   "cell_type": "markdown",
   "id": "e05e5a15",
   "metadata": {},
   "source": [
    "## Method to delete node"
   ]
  },
  {
   "cell_type": "code",
   "execution_count": 26,
   "id": "c7019005",
   "metadata": {},
   "outputs": [],
   "source": [
    "def delete_node(head: Node, d: int) -> Node:\n",
    "    \"\"\" This method returns the head after corresponding node with value d is deleted \"\"\"\n",
    "    n = head\n",
    "    \n",
    "    if n.data == d:  # If head is the node to be deleted\n",
    "        return head.next  # Don't need to adjust pointers, just return the next node as the new head\n",
    "    \n",
    "    while n.next:\n",
    "        if n.next.data == d:\n",
    "            n.next = n.next.next\n",
    "            return head  # Head didn't change so we return it\n",
    "        n = n.next\n",
    "    \n",
    "    return head  # If we reach here, that means there was no node to delete and we just return the old LL as-is"
   ]
  },
  {
   "cell_type": "code",
   "execution_count": 28,
   "id": "98dae36a",
   "metadata": {},
   "outputs": [],
   "source": [
    "new_n = delete_node(n, 5)"
   ]
  },
  {
   "cell_type": "code",
   "execution_count": 29,
   "id": "a873dd32",
   "metadata": {},
   "outputs": [
    {
     "data": {
      "text/plain": [
       "2"
      ]
     },
     "execution_count": 29,
     "metadata": {},
     "output_type": "execute_result"
    }
   ],
   "source": [
    "new_n"
   ]
  },
  {
   "cell_type": "code",
   "execution_count": 30,
   "id": "ec739d4a",
   "metadata": {},
   "outputs": [
    {
     "data": {
      "text/plain": [
       "7"
      ]
     },
     "execution_count": 30,
     "metadata": {},
     "output_type": "execute_result"
    }
   ],
   "source": [
    "new_n.next"
   ]
  },
  {
   "cell_type": "code",
   "execution_count": null,
   "id": "b84de1ca",
   "metadata": {},
   "outputs": [],
   "source": []
  }
 ],
 "metadata": {
  "kernelspec": {
   "display_name": "Python 3 (ipykernel)",
   "language": "python",
   "name": "python3"
  },
  "language_info": {
   "codemirror_mode": {
    "name": "ipython",
    "version": 3
   },
   "file_extension": ".py",
   "mimetype": "text/x-python",
   "name": "python",
   "nbconvert_exporter": "python",
   "pygments_lexer": "ipython3",
   "version": "3.9.12"
  }
 },
 "nbformat": 4,
 "nbformat_minor": 5
}
