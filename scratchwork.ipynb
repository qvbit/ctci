{
 "cells": [
  {
   "cell_type": "code",
   "execution_count": 9,
   "id": "2bd211c3",
   "metadata": {},
   "outputs": [],
   "source": [
    "ret = [[1, 2], [2, 3]]"
   ]
  },
  {
   "cell_type": "code",
   "execution_count": 10,
   "id": "c4f1c049",
   "metadata": {},
   "outputs": [],
   "source": [
    "b = [[5, 6]]"
   ]
  },
  {
   "cell_type": "code",
   "execution_count": 11,
   "id": "93e89001",
   "metadata": {},
   "outputs": [],
   "source": [
    "ret += b"
   ]
  },
  {
   "cell_type": "code",
   "execution_count": 12,
   "id": "def2ba55",
   "metadata": {},
   "outputs": [
    {
     "data": {
      "text/plain": [
       "[[1, 2], [2, 3], [5, 6]]"
      ]
     },
     "execution_count": 12,
     "metadata": {},
     "output_type": "execute_result"
    }
   ],
   "source": [
    "ret"
   ]
  },
  {
   "cell_type": "code",
   "execution_count": 13,
   "id": "b944080e",
   "metadata": {},
   "outputs": [],
   "source": [
    "b[0] = 69"
   ]
  },
  {
   "cell_type": "code",
   "execution_count": 14,
   "id": "78306902",
   "metadata": {},
   "outputs": [
    {
     "data": {
      "text/plain": [
       "[[1, 2], [2, 3], [5, 6]]"
      ]
     },
     "execution_count": 14,
     "metadata": {},
     "output_type": "execute_result"
    }
   ],
   "source": [
    "ret"
   ]
  },
  {
   "cell_type": "code",
   "execution_count": 15,
   "id": "18f28e0a",
   "metadata": {},
   "outputs": [
    {
     "data": {
      "text/plain": [
       "[2]"
      ]
     },
     "execution_count": 15,
     "metadata": {},
     "output_type": "execute_result"
    }
   ],
   "source": [
    "[] + [2]"
   ]
  },
  {
   "cell_type": "code",
   "execution_count": 16,
   "id": "7f4f39d1",
   "metadata": {},
   "outputs": [
    {
     "data": {
      "text/plain": [
       "[2]"
      ]
     },
     "execution_count": 16,
     "metadata": {},
     "output_type": "execute_result"
    }
   ],
   "source": [
    "[] + [] + [2]"
   ]
  },
  {
   "cell_type": "code",
   "execution_count": null,
   "id": "8445e78d",
   "metadata": {},
   "outputs": [],
   "source": []
  }
 ],
 "metadata": {
  "kernelspec": {
   "display_name": "Python 3 (ipykernel)",
   "language": "python",
   "name": "python3"
  },
  "language_info": {
   "codemirror_mode": {
    "name": "ipython",
    "version": 3
   },
   "file_extension": ".py",
   "mimetype": "text/x-python",
   "name": "python",
   "nbconvert_exporter": "python",
   "pygments_lexer": "ipython3",
   "version": "3.10.4"
  }
 },
 "nbformat": 4,
 "nbformat_minor": 5
}
