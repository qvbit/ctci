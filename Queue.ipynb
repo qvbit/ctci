{
 "cells": [
  {
   "cell_type": "code",
   "execution_count": 11,
   "id": "3cfff174",
   "metadata": {},
   "outputs": [],
   "source": [
    "class MyQueue:\n",
    "    def __init__(self):\n",
    "        self.first = None\n",
    "        self.last = None\n",
    "    \n",
    "    class QueueNode:\n",
    "        def __init__(self, data):\n",
    "            self.data = data\n",
    "            self._next = None\n",
    "    \n",
    "    def add(self, item):\n",
    "        t = self.QueueNode(item)\n",
    "        \n",
    "        if self.last:\n",
    "            self.last._next = t\n",
    "        self.last = t\n",
    "        \n",
    "        if not self.first:\n",
    "            self.first = self.last\n",
    "    \n",
    "    def remove(self):\n",
    "        if not self.first:\n",
    "            raise Exception(\"NoSuchElementException\")\n",
    "            \n",
    "        data = self.first.data\n",
    "        self.first = self.first._next\n",
    "        \n",
    "        if not self.first:\n",
    "            self.last = None\n",
    "        \n",
    "        return data\n",
    "    \n",
    "    def peek(self):\n",
    "        if not self.first:\n",
    "            raise Exception(\"NoSuchElementException\")\n",
    "        \n",
    "        return self.first.data\n",
    "    \n",
    "    def is_empty(self):\n",
    "        return not self.first"
   ]
  },
  {
   "cell_type": "code",
   "execution_count": 12,
   "id": "de0b00b8",
   "metadata": {},
   "outputs": [],
   "source": [
    "mq = MyQueue()"
   ]
  },
  {
   "cell_type": "code",
   "execution_count": 13,
   "id": "3d2636de",
   "metadata": {},
   "outputs": [],
   "source": [
    "mq.add(2)"
   ]
  },
  {
   "cell_type": "code",
   "execution_count": 14,
   "id": "181f1de0",
   "metadata": {},
   "outputs": [],
   "source": [
    "mq.add(3)"
   ]
  },
  {
   "cell_type": "code",
   "execution_count": 15,
   "id": "f9a412a9",
   "metadata": {},
   "outputs": [],
   "source": [
    "mq.add(4)"
   ]
  },
  {
   "cell_type": "code",
   "execution_count": 16,
   "id": "cbfea251",
   "metadata": {},
   "outputs": [
    {
     "data": {
      "text/plain": [
       "2"
      ]
     },
     "execution_count": 16,
     "metadata": {},
     "output_type": "execute_result"
    }
   ],
   "source": [
    "mq.remove()"
   ]
  },
  {
   "cell_type": "code",
   "execution_count": 17,
   "id": "37e0b549",
   "metadata": {},
   "outputs": [
    {
     "data": {
      "text/plain": [
       "3"
      ]
     },
     "execution_count": 17,
     "metadata": {},
     "output_type": "execute_result"
    }
   ],
   "source": [
    "mq.remove()"
   ]
  },
  {
   "cell_type": "code",
   "execution_count": 18,
   "id": "aede14e4",
   "metadata": {},
   "outputs": [
    {
     "data": {
      "text/plain": [
       "4"
      ]
     },
     "execution_count": 18,
     "metadata": {},
     "output_type": "execute_result"
    }
   ],
   "source": [
    "mq.peek()"
   ]
  },
  {
   "cell_type": "code",
   "execution_count": 19,
   "id": "71b32777",
   "metadata": {},
   "outputs": [
    {
     "data": {
      "text/plain": [
       "False"
      ]
     },
     "execution_count": 19,
     "metadata": {},
     "output_type": "execute_result"
    }
   ],
   "source": [
    "mq.is_empty()"
   ]
  },
  {
   "cell_type": "code",
   "execution_count": 20,
   "id": "dc0765f7",
   "metadata": {},
   "outputs": [
    {
     "data": {
      "text/plain": [
       "4"
      ]
     },
     "execution_count": 20,
     "metadata": {},
     "output_type": "execute_result"
    }
   ],
   "source": [
    "mq.remove()"
   ]
  },
  {
   "cell_type": "code",
   "execution_count": 22,
   "id": "431d55dd",
   "metadata": {},
   "outputs": [
    {
     "data": {
      "text/plain": [
       "True"
      ]
     },
     "execution_count": 22,
     "metadata": {},
     "output_type": "execute_result"
    }
   ],
   "source": [
    "mq.is_empty()"
   ]
  },
  {
   "cell_type": "code",
   "execution_count": 23,
   "id": "aaa08d21",
   "metadata": {},
   "outputs": [
    {
     "ename": "Exception",
     "evalue": "NoSuchElementException",
     "output_type": "error",
     "traceback": [
      "\u001b[1;31m---------------------------------------------------------------------------\u001b[0m",
      "\u001b[1;31mException\u001b[0m                                 Traceback (most recent call last)",
      "Input \u001b[1;32mIn [23]\u001b[0m, in \u001b[0;36m<cell line: 1>\u001b[1;34m()\u001b[0m\n\u001b[1;32m----> 1\u001b[0m \u001b[43mmq\u001b[49m\u001b[38;5;241;43m.\u001b[39;49m\u001b[43mpeek\u001b[49m\u001b[43m(\u001b[49m\u001b[43m)\u001b[49m\n",
      "Input \u001b[1;32mIn [11]\u001b[0m, in \u001b[0;36mMyQueue.peek\u001b[1;34m(self)\u001b[0m\n\u001b[0;32m     33\u001b[0m \u001b[38;5;28;01mdef\u001b[39;00m \u001b[38;5;21mpeek\u001b[39m(\u001b[38;5;28mself\u001b[39m):\n\u001b[0;32m     34\u001b[0m     \u001b[38;5;28;01mif\u001b[39;00m \u001b[38;5;129;01mnot\u001b[39;00m \u001b[38;5;28mself\u001b[39m\u001b[38;5;241m.\u001b[39mfirst:\n\u001b[1;32m---> 35\u001b[0m         \u001b[38;5;28;01mraise\u001b[39;00m \u001b[38;5;167;01mException\u001b[39;00m(\u001b[38;5;124m\"\u001b[39m\u001b[38;5;124mNoSuchElementException\u001b[39m\u001b[38;5;124m\"\u001b[39m)\n\u001b[0;32m     37\u001b[0m     \u001b[38;5;28;01mreturn\u001b[39;00m \u001b[38;5;28mself\u001b[39m\u001b[38;5;241m.\u001b[39mfirst\u001b[38;5;241m.\u001b[39mdata\n",
      "\u001b[1;31mException\u001b[0m: NoSuchElementException"
     ]
    }
   ],
   "source": [
    "mq.peek()"
   ]
  },
  {
   "cell_type": "code",
   "execution_count": 24,
   "id": "95f3ac3e",
   "metadata": {},
   "outputs": [
    {
     "ename": "Exception",
     "evalue": "NoSuchElementException",
     "output_type": "error",
     "traceback": [
      "\u001b[1;31m---------------------------------------------------------------------------\u001b[0m",
      "\u001b[1;31mException\u001b[0m                                 Traceback (most recent call last)",
      "Input \u001b[1;32mIn [24]\u001b[0m, in \u001b[0;36m<cell line: 1>\u001b[1;34m()\u001b[0m\n\u001b[1;32m----> 1\u001b[0m \u001b[43mmq\u001b[49m\u001b[38;5;241;43m.\u001b[39;49m\u001b[43mremove\u001b[49m\u001b[43m(\u001b[49m\u001b[43m)\u001b[49m\n",
      "Input \u001b[1;32mIn [11]\u001b[0m, in \u001b[0;36mMyQueue.remove\u001b[1;34m(self)\u001b[0m\n\u001b[0;32m     21\u001b[0m \u001b[38;5;28;01mdef\u001b[39;00m \u001b[38;5;21mremove\u001b[39m(\u001b[38;5;28mself\u001b[39m):\n\u001b[0;32m     22\u001b[0m     \u001b[38;5;28;01mif\u001b[39;00m \u001b[38;5;129;01mnot\u001b[39;00m \u001b[38;5;28mself\u001b[39m\u001b[38;5;241m.\u001b[39mfirst:\n\u001b[1;32m---> 23\u001b[0m         \u001b[38;5;28;01mraise\u001b[39;00m \u001b[38;5;167;01mException\u001b[39;00m(\u001b[38;5;124m\"\u001b[39m\u001b[38;5;124mNoSuchElementException\u001b[39m\u001b[38;5;124m\"\u001b[39m)\n\u001b[0;32m     25\u001b[0m     data \u001b[38;5;241m=\u001b[39m \u001b[38;5;28mself\u001b[39m\u001b[38;5;241m.\u001b[39mfirst\u001b[38;5;241m.\u001b[39mdata\n\u001b[0;32m     26\u001b[0m     \u001b[38;5;28mself\u001b[39m\u001b[38;5;241m.\u001b[39mfirst \u001b[38;5;241m=\u001b[39m \u001b[38;5;28mself\u001b[39m\u001b[38;5;241m.\u001b[39mfirst\u001b[38;5;241m.\u001b[39m_next\n",
      "\u001b[1;31mException\u001b[0m: NoSuchElementException"
     ]
    }
   ],
   "source": [
    "mq.remove()"
   ]
  },
  {
   "cell_type": "code",
   "execution_count": null,
   "id": "e70ab3d4",
   "metadata": {},
   "outputs": [],
   "source": []
  }
 ],
 "metadata": {
  "kernelspec": {
   "display_name": "Python 3 (ipykernel)",
   "language": "python",
   "name": "python3"
  },
  "language_info": {
   "codemirror_mode": {
    "name": "ipython",
    "version": 3
   },
   "file_extension": ".py",
   "mimetype": "text/x-python",
   "name": "python",
   "nbconvert_exporter": "python",
   "pygments_lexer": "ipython3",
   "version": "3.9.12"
  }
 },
 "nbformat": 4,
 "nbformat_minor": 5
}
