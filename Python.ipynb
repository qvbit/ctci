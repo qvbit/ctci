{
 "cells": [
  {
   "cell_type": "code",
   "execution_count": 1,
   "id": "193daee2",
   "metadata": {},
   "outputs": [],
   "source": [
    "arr = [\"Poo\"]"
   ]
  },
  {
   "cell_type": "code",
   "execution_count": 2,
   "id": "3b693ae6",
   "metadata": {},
   "outputs": [],
   "source": [
    "arr += [\"Foo\", \"Boo\"]"
   ]
  },
  {
   "cell_type": "code",
   "execution_count": 3,
   "id": "31342d74",
   "metadata": {},
   "outputs": [
    {
     "data": {
      "text/plain": [
       "['Poo', 'Foo', 'Boo']"
      ]
     },
     "execution_count": 3,
     "metadata": {},
     "output_type": "execute_result"
    }
   ],
   "source": [
    "arr"
   ]
  },
  {
   "cell_type": "code",
   "execution_count": null,
   "id": "b576f503",
   "metadata": {},
   "outputs": [],
   "source": []
  }
 ],
 "metadata": {
  "kernelspec": {
   "display_name": "Python 3 (ipykernel)",
   "language": "python",
   "name": "python3"
  },
  "language_info": {
   "codemirror_mode": {
    "name": "ipython",
    "version": 3
   },
   "file_extension": ".py",
   "mimetype": "text/x-python",
   "name": "python",
   "nbconvert_exporter": "python",
   "pygments_lexer": "ipython3",
   "version": "3.9.12"
  }
 },
 "nbformat": 4,
 "nbformat_minor": 5
}
